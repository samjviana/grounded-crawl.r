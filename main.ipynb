{
 "cells": [
  {
   "cell_type": "code",
   "execution_count": 8,
   "metadata": {},
   "outputs": [],
   "source": [
    "from crawler import AchievementsCrawler, HarvestNodesCrawler, BestiaryCrawler, BaseCrawler\n",
    "from crawler import CharacterDataCrawler, ChatWheelCrawler, EmotesCrawler, PetPersonalitiesCrawler\n",
    "from crawler import PlaceableStaticMeshesCrawler, PlaceableStaticMeshesManmadeCrawler\n",
    "from crawler import PlaceableStaticMeshesNaturalCrawler, PlayerUpgradesCrawler\n",
    "from crawler import ToolsWeaponsCrawler, ItemsCrawler, StatusEffectsCrawler\n",
    "from crawler import MutationsCrawler\n",
    "from pathlib import Path\n",
    "\n",
    "import json\n",
    "import uuid\n",
    "import re\n",
    "import os"
   ]
  },
  {
   "cell_type": "code",
   "execution_count": 9,
   "metadata": {},
   "outputs": [],
   "source": [
    "BaseCrawler.init(root_path=Path('D:/Grounded DataMining/'), version='1.4.1.4512', locale='enus')\n",
    "\n",
    "hide_unknown_fields = True\n",
    "\n",
    "crawlers: dict[str, BaseCrawler] = {\n",
    "    'achievements': AchievementsCrawler(hide_unknown_fields),\n",
    "    'harvest_nodes': HarvestNodesCrawler(hide_unknown_fields),\n",
    "    'creatures': BestiaryCrawler(hide_unknown_fields),\n",
    "    'character_data': CharacterDataCrawler(hide_unknown_fields),\n",
    "    'chat_wheel': ChatWheelCrawler(hide_unknown_fields),\n",
    "    'emotes': EmotesCrawler(hide_unknown_fields),\n",
    "    'pet_personalities': PetPersonalitiesCrawler(hide_unknown_fields),\n",
    "    'placeable_static_meshes': PlaceableStaticMeshesCrawler(hide_unknown_fields),\n",
    "    'placeable_static_meshes_manmade': PlaceableStaticMeshesManmadeCrawler(hide_unknown_fields),\n",
    "    'placeable_static_meshes_natural': PlaceableStaticMeshesNaturalCrawler(hide_unknown_fields),\n",
    "    'player_upgrades': PlayerUpgradesCrawler(hide_unknown_fields),\n",
    "    'tools_weapons': ToolsWeaponsCrawler(hide_unknown_fields),\n",
    "    'items': ItemsCrawler(hide_unknown_fields),\n",
    "    'status_effects': StatusEffectsCrawler(hide_unknown_fields),\n",
    "    'mutations': MutationsCrawler(hide_unknown_fields),\n",
    "}"
   ]
  },
  {
   "cell_type": "code",
   "execution_count": 10,
   "metadata": {},
   "outputs": [
    {
     "name": "stdout",
     "output_type": "stream",
     "text": [
      "Crawling achievements...\n",
      "Crawling harvest_nodes...\n",
      "Crawling creatures...\n",
      "Crawling character_data...\n",
      "Crawling chat_wheel...\n",
      "Crawling emotes...\n",
      "Crawling pet_personalities...\n",
      "Crawling placeable_static_meshes...\n",
      "Crawling placeable_static_meshes_manmade...\n",
      "Crawling placeable_static_meshes_natural...\n",
      "Crawling player_upgrades...\n",
      "Crawling tools_weapons...\n",
      "Crawling items...\n",
      "Crawling status_effects...\n",
      "Crawling mutations...\n"
     ]
    }
   ],
   "source": [
    "for name, crawler in crawlers.items():\n",
    "    print(f'Crawling {name}...')\n",
    "    crawler.crawl()"
   ]
  }
 ],
 "metadata": {
  "kernelspec": {
   "display_name": "Python 3",
   "language": "python",
   "name": "python3"
  },
  "language_info": {
   "codemirror_mode": {
    "name": "ipython",
    "version": 3
   },
   "file_extension": ".py",
   "mimetype": "text/x-python",
   "name": "python",
   "nbconvert_exporter": "python",
   "pygments_lexer": "ipython3",
   "version": "3.12.2"
  }
 },
 "nbformat": 4,
 "nbformat_minor": 2
}
