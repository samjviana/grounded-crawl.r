{
 "cells": [
  {
   "cell_type": "code",
   "execution_count": 5,
   "metadata": {},
   "outputs": [],
   "source": [
    "items = [\n",
    "            'DamageTypeFlags',\n",
    "            'DamageType',\n",
    "            'ApplicationTags',\n",
    "            'EffectTags',\n",
    "            'DamageSourceTags',\n",
    "            'DamageTargetTags',\n",
    "            'UniqueTag',\n",
    "            'ApplyType',\n",
    "            'AttackChargeType',\n",
    "            'ClearFlags',\n",
    "            'ExtraData',\n",
    "            'SpawnedActor',\n",
    "            'ScreenEffectData',\n",
    "            'VisualEffectData',\n",
    "            'bShowInUI',\n",
    "            'bStackInUI'\n",
    "        ]"
   ]
  },
  {
   "cell_type": "code",
   "execution_count": 6,
   "metadata": {},
   "outputs": [],
   "source": [
    "def format_list_in_columns(strings, columns):\n",
    "    import itertools\n",
    "    \n",
    "    # Dividir a lista em sub-listas de acordo com o número de colunas\n",
    "    groups = [strings[i:i+columns] for i in range(0, len(strings), columns)]\n",
    "    \n",
    "    # Encontrar o comprimento máximo de cada coluna\n",
    "    max_lengths = [max(len(item) for item in col) + 1 for col in itertools.zip_longest(*groups, fillvalue='')]\n",
    "    \n",
    "    # Criar uma string formatada\n",
    "    result = \"[\\n\"\n",
    "    for group in groups:\n",
    "        line = ' '.join(f\"'{item}',\".ljust(max_lengths[idx] + 2) for idx, item in enumerate(group))\n",
    "        result += f\"    {line}\\n\"\n",
    "    result = result.rstrip('\\n') + '\\n]'\n",
    "    \n",
    "    return result"
   ]
  },
  {
   "cell_type": "code",
   "execution_count": 8,
   "metadata": {},
   "outputs": [
    {
     "name": "stdout",
     "output_type": "stream",
     "text": [
      "[\n",
      "    'DamageTypeFlags',  'DamageType',       'ApplicationTags', 'EffectTags',  \n",
      "    'DamageSourceTags', 'DamageTargetTags', 'UniqueTag',       'ApplyType',   \n",
      "    'AttackChargeType', 'ClearFlags',       'ExtraData',       'SpawnedActor',\n",
      "    'ScreenEffectData', 'VisualEffectData', 'bShowInUI',       'bStackInUI',  \n",
      "]\n"
     ]
    }
   ],
   "source": [
    "print(format_list_in_columns(items, 4))"
   ]
  },
  {
   "cell_type": "code",
   "execution_count": 1,
   "metadata": {},
   "outputs": [],
   "source": [
    "from crawler import AchievementsCrawler, HarvestNodesCrawler, BestiaryCrawler, BaseCrawler\n",
    "from crawler import CharacterDataCrawler, ChatWheelCrawler, EmotesCrawler, PetPersonalitiesCrawler\n",
    "from crawler import PlaceableStaticMeshesCrawler, PlaceableStaticMeshesManmadeCrawler\n",
    "from crawler import PlaceableStaticMeshesNaturalCrawler, PlayerUpgradesCrawler\n",
    "from crawler import ToolsWeaponsCrawler\n",
    "from pathlib import Path\n",
    "from IPython.display import display, Image\n",
    "\n",
    "import json\n",
    "import uuid\n",
    "import re\n",
    "import os"
   ]
  },
  {
   "cell_type": "code",
   "execution_count": 2,
   "metadata": {},
   "outputs": [],
   "source": [
    "BaseCrawler.init(root_path=Path('C:/Users/PC-SAMUEL/Desktop/data_mining/grounded/'), version='1.4')"
   ]
  },
  {
   "cell_type": "code",
   "execution_count": 3,
   "metadata": {},
   "outputs": [],
   "source": [
    "hide_unknown_fields = True\n",
    "\n",
    "crawlers: dict[str, BaseCrawler] = {\n",
    "    # 'achievements': AchievementsCrawler(hide_unknown_fields),\n",
    "    # 'harvest_nodes': HarvestNodesCrawler(hide_unknown_fields),\n",
    "    # 'creatures': BestiaryCrawler(hide_unknown_fields),\n",
    "    # 'character_data': CharacterDataCrawler(hide_unknown_fields),\n",
    "    # 'chat_wheel': ChatWheelCrawler(hide_unknown_fields),\n",
    "    # 'emotes': EmotesCrawler(hide_unknown_fields),\n",
    "    # 'pet_personalities': PetPersonalitiesCrawler(hide_unknown_fields),\n",
    "    # 'placeable_static_meshes': PlaceableStaticMeshesCrawler(hide_unknown_fields),\n",
    "    # 'placeable_static_meshes_manmade': PlaceableStaticMeshesManmadeCrawler(hide_unknown_fields),\n",
    "    # 'placeable_static_meshes_natural': PlaceableStaticMeshesNaturalCrawler(hide_unknown_fields),\n",
    "    # 'player_upgrades': PlayerUpgradesCrawler(hide_unknown_fields),\n",
    "    'tools_weapons': ToolsWeaponsCrawler(hide_unknown_fields),\n",
    "}"
   ]
  },
  {
   "cell_type": "code",
   "execution_count": 4,
   "metadata": {},
   "outputs": [
    {
     "name": "stdout",
     "output_type": "stream",
     "text": [
      "Crawling tools_weapons...\n",
      "Loaded items table in 0.08454442024230957 seconds.\n"
     ]
    }
   ],
   "source": [
    "for name, crawler in crawlers.items():\n",
    "    print(f'Crawling {name}...')\n",
    "    crawler.crawl()"
   ]
  },
  {
   "cell_type": "code",
   "execution_count": 4,
   "metadata": {},
   "outputs": [],
   "source": [
    "crawled_data = crawlers['tools_weapons'].crawl()"
   ]
  },
  {
   "cell_type": "code",
   "execution_count": 6,
   "metadata": {},
   "outputs": [
    {
     "data": {
      "text/plain": [
       "{'34': {'ID': 34,\n",
       "  'DefaultText': 'Pebblet Axe',\n",
       "  'FemaleText': '',\n",
       "  'GenderNeutralText': ''}}"
      ]
     },
     "execution_count": 6,
     "metadata": {},
     "output_type": "execute_result"
    }
   ],
   "source": [
    "from models import ToolWeapon\n",
    "\n",
    "axe: ToolWeapon = crawled_data['Axe']\n",
    "axe.display_name.get_string()"
   ]
  },
  {
   "cell_type": "code",
   "execution_count": 5,
   "metadata": {},
   "outputs": [],
   "source": [
    "possible_files = [\n",
    "    # ('achievements', 'Table_Achievements.json'),\n",
    "    # ('harvest_nodes', 'Table_AllHarvestNodes.json'),\n",
    "    # ('creatures', 'Table_Bestiary.json'),\n",
    "    # ('character_data', 'Table_CharacterData.json'),\n",
    "    # ('chat_wheel', 'Table_ChatWheel.json'),\n",
    "    # ('emotes', 'Table_Emotes.json'),\n",
    "    ('pet_personalities', 'Table_PetPersonalities.json'),\n",
    "    ('placeable_static_meshes', 'Table_PlaceableStaticMeshes.json'),\n",
    "    ('placeable_static_meshes_manmade', 'Table_PlaceableStaticMeshes_Manmade.json'),\n",
    "    ('placeable_static_meshes_natural', 'Table_PlaceableStaticMeshes_Natural.json'),\n",
    "    ('player_upgrades', 'Table_PlayerUpgrades.json')\n",
    "]\n",
    "\n",
    "for possible_file in possible_files:\n",
    "    file_name = possible_file[0]\n",
    "    datatable = possible_file[1]\n",
    "    class_name = f'{datatable.replace(\"Table_\", \"\").replace(\".json\", \"\")}Crawler'.replace('_', '')\n",
    "    python_content = f'''\n",
    "from .base_crawler import BaseCrawler\n",
    "from pathlib import Path\n",
    "\n",
    "class {class_name}(BaseCrawler):\n",
    "    \"\"\"\n",
    "    This class is responsible for crawling the {file_name} data from the game.\n",
    "    \"\"\"\n",
    "    def __init__(self, hide_unknown_fields: bool = False):\n",
    "        super().__init__(\n",
    "            name='{file_name}',\n",
    "            json_path=Path('Maine/Content/Blueprints/DataTables/{datatable}'),\n",
    "            hide_unknown_fields=hide_unknown_fields\n",
    "        )\n",
    "    '''\n",
    "    if not os.path.exists(f'crawler/{file_name}.py'):\n",
    "        with open(f'crawler/{file_name}.py', 'w') as f:\n",
    "            f.write(python_content)\n",
    "            print(f'Created {file_name}.py')"
   ]
  },
  {
   "cell_type": "code",
   "execution_count": 6,
   "metadata": {},
   "outputs": [],
   "source": [
    "path = Path('C:/Users/PC-SAMUEL/Desktop/data_mining/grounded/json_data/Maine/Content/Blueprints/DataTables/Table_CharacterData.json')\n",
    "json_text = path.read_text(encoding='utf-8')\n",
    "data = json.loads(json_text)"
   ]
  },
  {
   "cell_type": "code",
   "execution_count": 7,
   "metadata": {},
   "outputs": [
    {
     "name": "stdout",
     "output_type": "stream",
     "text": [
      "{'AssetPathName': 'None', 'SubPathString': ''}\n",
      "{'AssetPathName': 'None', 'SubPathString': ''}\n",
      "{'AssetPathName': 'None', 'SubPathString': ''}\n",
      "{'AssetPathName': 'None', 'SubPathString': ''}\n",
      "{'AssetPathName': 'None', 'SubPathString': ''}\n",
      "{'AssetPathName': 'None', 'SubPathString': ''}\n",
      "{'AssetPathName': 'None', 'SubPathString': ''}\n",
      "{'AssetPathName': 'None', 'SubPathString': ''}\n",
      "{'AssetPathName': 'None', 'SubPathString': ''}\n",
      "{'AssetPathName': 'None', 'SubPathString': ''}\n",
      "{'AssetPathName': 'None', 'SubPathString': ''}\n",
      "{'AssetPathName': 'None', 'SubPathString': ''}\n",
      "{'AssetPathName': 'None', 'SubPathString': ''}\n",
      "{'AssetPathName': 'None', 'SubPathString': ''}\n",
      "{'AssetPathName': 'None', 'SubPathString': ''}\n",
      "{'AssetPathName': 'None', 'SubPathString': ''}\n",
      "{'AssetPathName': 'None', 'SubPathString': ''}\n",
      "{'AssetPathName': 'None', 'SubPathString': ''}\n",
      "{'AssetPathName': 'None', 'SubPathString': ''}\n",
      "{'AssetPathName': 'None', 'SubPathString': ''}\n",
      "{'AssetPathName': 'None', 'SubPathString': ''}\n",
      "{'AssetPathName': 'None', 'SubPathString': ''}\n",
      "{'AssetPathName': 'None', 'SubPathString': ''}\n",
      "{'AssetPathName': 'None', 'SubPathString': ''}\n",
      "{'AssetPathName': 'None', 'SubPathString': ''}\n",
      "{'AssetPathName': 'None', 'SubPathString': ''}\n",
      "{'AssetPathName': 'None', 'SubPathString': ''}\n",
      "{'AssetPathName': 'None', 'SubPathString': ''}\n",
      "{'AssetPathName': 'None', 'SubPathString': ''}\n",
      "{'AssetPathName': 'None', 'SubPathString': ''}\n",
      "{'AssetPathName': 'None', 'SubPathString': ''}\n",
      "{'AssetPathName': 'None', 'SubPathString': ''}\n",
      "{'AssetPathName': 'None', 'SubPathString': ''}\n",
      "{'AssetPathName': 'None', 'SubPathString': ''}\n",
      "{'AssetPathName': 'None', 'SubPathString': ''}\n",
      "{'AssetPathName': 'None', 'SubPathString': ''}\n",
      "{'AssetPathName': 'None', 'SubPathString': ''}\n",
      "{'AssetPathName': 'None', 'SubPathString': ''}\n",
      "{'AssetPathName': 'None', 'SubPathString': ''}\n",
      "{'AssetPathName': 'None', 'SubPathString': ''}\n",
      "{'AssetPathName': 'None', 'SubPathString': ''}\n",
      "{'AssetPathName': 'None', 'SubPathString': ''}\n",
      "{'AssetPathName': 'None', 'SubPathString': ''}\n",
      "{'AssetPathName': 'None', 'SubPathString': ''}\n",
      "{'AssetPathName': 'None', 'SubPathString': ''}\n",
      "{'AssetPathName': 'None', 'SubPathString': ''}\n",
      "{'AssetPathName': 'None', 'SubPathString': ''}\n",
      "{'AssetPathName': 'None', 'SubPathString': ''}\n",
      "{'AssetPathName': 'None', 'SubPathString': ''}\n",
      "{'AssetPathName': 'None', 'SubPathString': ''}\n",
      "{'AssetPathName': 'None', 'SubPathString': ''}\n",
      "{'AssetPathName': 'None', 'SubPathString': ''}\n",
      "{'AssetPathName': 'None', 'SubPathString': ''}\n",
      "{'AssetPathName': 'None', 'SubPathString': ''}\n",
      "{'AssetPathName': 'None', 'SubPathString': ''}\n",
      "{'AssetPathName': 'None', 'SubPathString': ''}\n",
      "{'AssetPathName': 'None', 'SubPathString': ''}\n",
      "{'AssetPathName': 'None', 'SubPathString': ''}\n",
      "{'AssetPathName': 'None', 'SubPathString': ''}\n",
      "{'AssetPathName': 'None', 'SubPathString': ''}\n",
      "{'AssetPathName': 'None', 'SubPathString': ''}\n",
      "{'AssetPathName': 'None', 'SubPathString': ''}\n",
      "{'AssetPathName': 'None', 'SubPathString': ''}\n",
      "{'AssetPathName': 'None', 'SubPathString': ''}\n",
      "{'AssetPathName': 'None', 'SubPathString': ''}\n",
      "{'AssetPathName': 'None', 'SubPathString': ''}\n",
      "{'AssetPathName': 'None', 'SubPathString': ''}\n",
      "{'AssetPathName': 'None', 'SubPathString': ''}\n",
      "{'AssetPathName': 'None', 'SubPathString': ''}\n",
      "{'AssetPathName': 'None', 'SubPathString': ''}\n",
      "{'AssetPathName': 'None', 'SubPathString': ''}\n",
      "{'AssetPathName': 'None', 'SubPathString': ''}\n",
      "{'AssetPathName': 'None', 'SubPathString': ''}\n",
      "{'AssetPathName': 'None', 'SubPathString': ''}\n",
      "{'AssetPathName': 'None', 'SubPathString': ''}\n",
      "{'AssetPathName': 'None', 'SubPathString': ''}\n",
      "{'AssetPathName': 'None', 'SubPathString': ''}\n",
      "{'AssetPathName': 'None', 'SubPathString': ''}\n",
      "{'AssetPathName': 'None', 'SubPathString': ''}\n",
      "{'AssetPathName': 'None', 'SubPathString': ''}\n",
      "{'AssetPathName': 'None', 'SubPathString': ''}\n",
      "{'AssetPathName': 'None', 'SubPathString': ''}\n",
      "{'AssetPathName': 'None', 'SubPathString': ''}\n",
      "{'AssetPathName': 'None', 'SubPathString': ''}\n",
      "{'AssetPathName': 'None', 'SubPathString': ''}\n",
      "{'AssetPathName': 'None', 'SubPathString': ''}\n",
      "{'AssetPathName': 'None', 'SubPathString': ''}\n",
      "{'AssetPathName': 'None', 'SubPathString': ''}\n",
      "{'AssetPathName': 'None', 'SubPathString': ''}\n",
      "{'AssetPathName': 'None', 'SubPathString': ''}\n",
      "{'AssetPathName': 'None', 'SubPathString': ''}\n",
      "{'AssetPathName': 'None', 'SubPathString': ''}\n",
      "{'AssetPathName': 'None', 'SubPathString': ''}\n",
      "{'AssetPathName': 'None', 'SubPathString': ''}\n",
      "{'AssetPathName': 'None', 'SubPathString': ''}\n",
      "{'AssetPathName': 'None', 'SubPathString': ''}\n",
      "{'AssetPathName': '/Game/UI/Images/System/T_UI_Mod_ORC.T_UI_Mod_ORC', 'SubPathString': ''}\n",
      "{'AssetPathName': '/Game/UI/Images/System/T_UI_Mod_ORC.T_UI_Mod_ORC', 'SubPathString': ''}\n",
      "{'AssetPathName': '/Game/UI/Images/System/T_UI_Mod_ORC.T_UI_Mod_ORC', 'SubPathString': ''}\n",
      "{'AssetPathName': '/Game/UI/Images/System/T_UI_Mod_ORC.T_UI_Mod_ORC', 'SubPathString': ''}\n",
      "{'AssetPathName': '/Game/UI/Images/System/T_UI_Mod_ORC.T_UI_Mod_ORC', 'SubPathString': ''}\n",
      "{'AssetPathName': '/Game/UI/Images/System/T_UI_Mod_ORC.T_UI_Mod_ORC', 'SubPathString': ''}\n",
      "{'AssetPathName': '/Game/UI/Images/System/T_UI_Mod_ORC.T_UI_Mod_ORC', 'SubPathString': ''}\n",
      "{'AssetPathName': '/Game/UI/Images/System/T_UI_Mod_ORC.T_UI_Mod_ORC', 'SubPathString': ''}\n",
      "{'AssetPathName': 'None', 'SubPathString': ''}\n",
      "{'AssetPathName': 'None', 'SubPathString': ''}\n",
      "{'AssetPathName': 'None', 'SubPathString': ''}\n",
      "{'AssetPathName': 'None', 'SubPathString': ''}\n",
      "{'AssetPathName': 'None', 'SubPathString': ''}\n",
      "{'AssetPathName': '/Game/UI/Images/System/T_UI_Mod_ORC.T_UI_Mod_ORC', 'SubPathString': ''}\n",
      "{'AssetPathName': 'None', 'SubPathString': ''}\n",
      "{'AssetPathName': 'None', 'SubPathString': ''}\n",
      "{'AssetPathName': 'None', 'SubPathString': ''}\n"
     ]
    }
   ],
   "source": [
    "for name in data[0]['Rows']:\n",
    "    item = data[0]['Rows'][name]\n",
    "    key_list = [\n",
    "        'Icon', 'ModIcon', 'HudIcon', 'CharacterName',\n",
    "        'CharacterTags', 'bTameable', 'TamingFood',\n",
    "        'PetPersonalities', 'ActivePetPassiveEffects',\n",
    "        'BestiaryItem', 'PlacementData',\n",
    "    ]\n",
    "    # for key, value in item.items():\n",
    "    #     if key not in key_list:\n",
    "    #         print(f'{key}: {value}')\n",
    "\n",
    "    print(item['ModIcon'])\n"
   ]
  },
  {
   "cell_type": "code",
   "execution_count": 8,
   "metadata": {},
   "outputs": [],
   "source": [
    "def find_string(string_table: dict, string_id: int):\n",
    "    for string in string_table['Entries']:\n",
    "        for key, value in string.items():\n",
    "            if value['ID'] == string_id:\n",
    "                return value['DefaultText']"
   ]
  },
  {
   "cell_type": "code",
   "execution_count": null,
   "metadata": {},
   "outputs": [],
   "source": [
    "find_string(string_tables['game/harvestnodes'], 58)"
   ]
  }
 ],
 "metadata": {
  "kernelspec": {
   "display_name": "Python 3",
   "language": "python",
   "name": "python3"
  },
  "language_info": {
   "codemirror_mode": {
    "name": "ipython",
    "version": 3
   },
   "file_extension": ".py",
   "mimetype": "text/x-python",
   "name": "python",
   "nbconvert_exporter": "python",
   "pygments_lexer": "ipython3",
   "version": "3.12.2"
  }
 },
 "nbformat": 4,
 "nbformat_minor": 2
}
