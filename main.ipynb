{
 "cells": [
  {
   "cell_type": "code",
   "execution_count": 1,
   "metadata": {},
   "outputs": [],
   "source": [
    "from crawler import AchievementsCrawler, HarvestNodesCrawler, BestiaryCrawler, BaseCrawler\n",
    "from crawler import CharacterDataCrawler, ChatWheelCrawler, EmotesCrawler, PetPersonalitiesCrawler\n",
    "from crawler import PlaceableStaticMeshesCrawler, PlaceableStaticMeshesManmadeCrawler\n",
    "from crawler import PlaceableStaticMeshesNaturalCrawler, PlayerUpgradesCrawler\n",
    "from crawler import ToolsWeaponsCrawler, ItemsCrawler, StatusEffectsCrawler\n",
    "from crawler import MutationsCrawler\n",
    "from pathlib import Path\n",
    "\n",
    "import json\n",
    "import uuid\n",
    "import re\n",
    "import os"
   ]
  },
  {
   "cell_type": "code",
   "execution_count": 2,
   "metadata": {},
   "outputs": [],
   "source": [
    "BaseCrawler.init(root_path=Path('C:/Users/PC-SAMUEL/Desktop/data_mining/grounded/'), version='1.4.1.4512', locale='enus')\n",
    "\n",
    "hide_unknown_fields = True\n",
    "\n",
    "crawlers: dict[str, BaseCrawler] = {\n",
    "    'achievements': AchievementsCrawler(hide_unknown_fields),\n",
    "    'harvest_nodes': HarvestNodesCrawler(hide_unknown_fields),\n",
    "    'creatures': BestiaryCrawler(hide_unknown_fields),\n",
    "    'character_data': CharacterDataCrawler(hide_unknown_fields),\n",
    "    'chat_wheel': ChatWheelCrawler(hide_unknown_fields),\n",
    "    'emotes': EmotesCrawler(hide_unknown_fields),\n",
    "    'pet_personalities': PetPersonalitiesCrawler(hide_unknown_fields),\n",
    "    'placeable_static_meshes': PlaceableStaticMeshesCrawler(hide_unknown_fields),\n",
    "    'placeable_static_meshes_manmade': PlaceableStaticMeshesManmadeCrawler(hide_unknown_fields),\n",
    "    'placeable_static_meshes_natural': PlaceableStaticMeshesNaturalCrawler(hide_unknown_fields),\n",
    "    'player_upgrades': PlayerUpgradesCrawler(hide_unknown_fields),\n",
    "    'tools_weapons': ToolsWeaponsCrawler(hide_unknown_fields),\n",
    "    'items': ItemsCrawler(hide_unknown_fields),\n",
    "    'status_effects': StatusEffectsCrawler(hide_unknown_fields),\n",
    "    'mutations': MutationsCrawler(hide_unknown_fields),\n",
    "}"
   ]
  },
  {
   "cell_type": "code",
   "execution_count": 3,
   "metadata": {},
   "outputs": [
    {
     "name": "stdout",
     "output_type": "stream",
     "text": [
      "Crawling achievements...\n",
      "Crawling harvest_nodes...\n",
      "Crawling creatures...\n",
      "Crawling character_data...\n",
      "Crawling chat_wheel...\n",
      "Crawling emotes...\n",
      "Crawling pet_personalities...\n",
      "Crawling placeable_static_meshes...\n",
      "Crawling placeable_static_meshes_manmade...\n",
      "Crawling placeable_static_meshes_natural...\n",
      "Crawling player_upgrades...\n",
      "Crawling tools_weapons...\n",
      "Crawling items...\n",
      "Crawling status_effects...\n",
      "Crawling mutations...\n"
     ]
    },
    {
     "ename": "TypeError",
     "evalue": "argument of type 'NoneType' is not iterable",
     "output_type": "error",
     "traceback": [
      "\u001b[1;31m---------------------------------------------------------------------------\u001b[0m",
      "\u001b[1;31mTypeError\u001b[0m                                 Traceback (most recent call last)",
      "Cell \u001b[1;32mIn[3], line 3\u001b[0m\n\u001b[0;32m      1\u001b[0m \u001b[38;5;28;01mfor\u001b[39;00m name, crawler \u001b[38;5;129;01min\u001b[39;00m crawlers\u001b[38;5;241m.\u001b[39mitems():\n\u001b[0;32m      2\u001b[0m     \u001b[38;5;28mprint\u001b[39m(\u001b[38;5;124mf\u001b[39m\u001b[38;5;124m'\u001b[39m\u001b[38;5;124mCrawling \u001b[39m\u001b[38;5;132;01m{\u001b[39;00mname\u001b[38;5;132;01m}\u001b[39;00m\u001b[38;5;124m...\u001b[39m\u001b[38;5;124m'\u001b[39m)\n\u001b[1;32m----> 3\u001b[0m     \u001b[43mcrawler\u001b[49m\u001b[38;5;241;43m.\u001b[39;49m\u001b[43mcrawl\u001b[49m\u001b[43m(\u001b[49m\u001b[43m)\u001b[49m\n",
      "File \u001b[1;32mc:\\Users\\PC-SAMUEL\\Desktop\\Coding\\python\\grounded_crawler\\crawler\\base_crawler.py:74\u001b[0m, in \u001b[0;36mBaseCrawler.crawl\u001b[1;34m(self)\u001b[0m\n\u001b[0;32m     71\u001b[0m     \u001b[38;5;28;01melse\u001b[39;00m:\n\u001b[0;32m     72\u001b[0m         unknown_fields \u001b[38;5;241m=\u001b[39m \u001b[38;5;28mself\u001b[39m\u001b[38;5;241m.\u001b[39m_get_unknown_fields(value, \u001b[38;5;28mself\u001b[39m\u001b[38;5;241m.\u001b[39munknown_field_list)\n\u001b[1;32m---> 74\u001b[0m     crawled_data[key] \u001b[38;5;241m=\u001b[39m \u001b[38;5;28;43mself\u001b[39;49m\u001b[38;5;241;43m.\u001b[39;49m\u001b[43m_get_crawled_data\u001b[49m\u001b[43m(\u001b[49m\u001b[43mkey\u001b[49m\u001b[43m,\u001b[49m\u001b[43m \u001b[49m\u001b[43mvalue\u001b[49m\u001b[43m,\u001b[49m\u001b[43m \u001b[49m\u001b[43munknown_fields\u001b[49m\u001b[43m)\u001b[49m\n\u001b[0;32m     76\u001b[0m \u001b[38;5;28mself\u001b[39m\u001b[38;5;241m.\u001b[39m_save(crawled_data, \u001b[38;5;124mf\u001b[39m\u001b[38;5;124m'\u001b[39m\u001b[38;5;132;01m{\u001b[39;00m\u001b[38;5;28mself\u001b[39m\u001b[38;5;241m.\u001b[39mcrawler_name\u001b[38;5;132;01m}\u001b[39;00m\u001b[38;5;124m.json\u001b[39m\u001b[38;5;124m'\u001b[39m)\n\u001b[0;32m     78\u001b[0m \u001b[38;5;28mself\u001b[39m\u001b[38;5;241m.\u001b[39mdispose()\n",
      "File \u001b[1;32mc:\\Users\\PC-SAMUEL\\Desktop\\Coding\\python\\grounded_crawler\\crawler\\mutations.py:49\u001b[0m, in \u001b[0;36mMutationsCrawler._get_crawled_data\u001b[1;34m(self, key, value, unknown_fields)\u001b[0m\n\u001b[0;32m     46\u001b[0m stat_obj \u001b[38;5;241m=\u001b[39m value[\u001b[38;5;124m'\u001b[39m\u001b[38;5;124mStat\u001b[39m\u001b[38;5;124m'\u001b[39m]\n\u001b[0;32m     47\u001b[0m stat \u001b[38;5;241m=\u001b[39m \u001b[38;5;28;01mNone\u001b[39;00m \u001b[38;5;28;01mif\u001b[39;00m stat_obj \u001b[38;5;241m==\u001b[39m \u001b[38;5;28;01mNone\u001b[39;00m \u001b[38;5;28;01melse\u001b[39;00m stat_obj[\u001b[38;5;124m'\u001b[39m\u001b[38;5;124mObjectPath\u001b[39m\u001b[38;5;124m'\u001b[39m]\u001b[38;5;241m.\u001b[39msplit(\u001b[38;5;124m'\u001b[39m\u001b[38;5;124m/\u001b[39m\u001b[38;5;124m'\u001b[39m)[\u001b[38;5;241m-\u001b[39m\u001b[38;5;241m1\u001b[39m]\u001b[38;5;241m.\u001b[39msplit(\u001b[38;5;124m'\u001b[39m\u001b[38;5;124m.\u001b[39m\u001b[38;5;124m'\u001b[39m)[\u001b[38;5;241m0\u001b[39m]\n\u001b[1;32m---> 49\u001b[0m tiers \u001b[38;5;241m=\u001b[39m \u001b[38;5;28;43mself\u001b[39;49m\u001b[38;5;241;43m.\u001b[39;49m\u001b[43m_get_tiers\u001b[49m\u001b[43m(\u001b[49m\u001b[43mvalue\u001b[49m\u001b[43m[\u001b[49m\u001b[38;5;124;43m'\u001b[39;49m\u001b[38;5;124;43mTiers\u001b[39;49m\u001b[38;5;124;43m'\u001b[39;49m\u001b[43m]\u001b[49m\u001b[43m)\u001b[49m\n\u001b[0;32m     51\u001b[0m \u001b[38;5;28;01mreturn\u001b[39;00m Mutation(\n\u001b[0;32m     52\u001b[0m     key_name\u001b[38;5;241m=\u001b[39mkey,\n\u001b[0;32m     53\u001b[0m     display_name\u001b[38;5;241m=\u001b[39mname,\n\u001b[1;32m   (...)\u001b[0m\n\u001b[0;32m     58\u001b[0m     unknown_fields\u001b[38;5;241m=\u001b[39munknown_fields\n\u001b[0;32m     59\u001b[0m )\n",
      "File \u001b[1;32mc:\\Users\\PC-SAMUEL\\Desktop\\Coding\\python\\grounded_crawler\\crawler\\mutations.py:28\u001b[0m, in \u001b[0;36mMutationsCrawler._get_tiers\u001b[1;34m(self, tiers)\u001b[0m\n\u001b[0;32m     26\u001b[0m \u001b[38;5;28;01mfor\u001b[39;00m status_effect \u001b[38;5;129;01min\u001b[39;00m tier[\u001b[38;5;124m'\u001b[39m\u001b[38;5;124mReward\u001b[39m\u001b[38;5;124m'\u001b[39m][\u001b[38;5;124m'\u001b[39m\u001b[38;5;124mStatusEffects\u001b[39m\u001b[38;5;124m'\u001b[39m]:\n\u001b[0;32m     27\u001b[0m     status_effect_key \u001b[38;5;241m=\u001b[39m status_effect[\u001b[38;5;124m'\u001b[39m\u001b[38;5;124mRowName\u001b[39m\u001b[38;5;124m'\u001b[39m]\n\u001b[1;32m---> 28\u001b[0m     status_effects\u001b[38;5;241m.\u001b[39mappend(\u001b[43mGlobalDatabase\u001b[49m\u001b[38;5;241;43m.\u001b[39;49m\u001b[43mget_crawled_data\u001b[49m\u001b[43m(\u001b[49m\u001b[38;5;124;43m'\u001b[39;49m\u001b[38;5;124;43mstatus_effects\u001b[39;49m\u001b[38;5;124;43m'\u001b[39;49m\u001b[43m,\u001b[49m\u001b[43m \u001b[49m\u001b[43mstatus_effect_key\u001b[49m\u001b[43m)\u001b[49m)\n\u001b[0;32m     30\u001b[0m recipes \u001b[38;5;241m=\u001b[39m [ recipe[\u001b[38;5;124m'\u001b[39m\u001b[38;5;124mRowName\u001b[39m\u001b[38;5;124m'\u001b[39m] \u001b[38;5;28;01mfor\u001b[39;00m recipe \u001b[38;5;129;01min\u001b[39;00m tier[\u001b[38;5;124m'\u001b[39m\u001b[38;5;124mReward\u001b[39m\u001b[38;5;124m'\u001b[39m][\u001b[38;5;124m'\u001b[39m\u001b[38;5;124mRecipes\u001b[39m\u001b[38;5;124m'\u001b[39m] ]\n\u001b[0;32m     32\u001b[0m mutation_tiers\u001b[38;5;241m.\u001b[39mappend(MutationTier(\n\u001b[0;32m     33\u001b[0m     condition\u001b[38;5;241m=\u001b[39mtier[\u001b[38;5;124m'\u001b[39m\u001b[38;5;124mCondition\u001b[39m\u001b[38;5;124m'\u001b[39m][\u001b[38;5;124m'\u001b[39m\u001b[38;5;124mValue\u001b[39m\u001b[38;5;124m'\u001b[39m],\n\u001b[0;32m     34\u001b[0m     status_effects\u001b[38;5;241m=\u001b[39mstatus_effects,\n\u001b[0;32m     35\u001b[0m     recipes\u001b[38;5;241m=\u001b[39mrecipes\n\u001b[0;32m     36\u001b[0m ))\n",
      "File \u001b[1;32mc:\\Users\\PC-SAMUEL\\Desktop\\Coding\\python\\grounded_crawler\\global_database.py:50\u001b[0m, in \u001b[0;36mGlobalDatabase.get_crawled_data\u001b[1;34m(crawler_name, key)\u001b[0m\n\u001b[0;32m     47\u001b[0m     \u001b[38;5;28;01mraise\u001b[39;00m \u001b[38;5;167;01mException\u001b[39;00m(\u001b[38;5;124mf\u001b[39m\u001b[38;5;124m'\u001b[39m\u001b[38;5;124mThere is no data for the crawler: \u001b[39m\u001b[38;5;132;01m{\u001b[39;00mcrawler_name\u001b[38;5;132;01m}\u001b[39;00m\u001b[38;5;124m'\u001b[39m)\n\u001b[0;32m     49\u001b[0m data \u001b[38;5;241m=\u001b[39m \u001b[38;5;28mgetattr\u001b[39m(GlobalDatabase, crawler_name)\n\u001b[1;32m---> 50\u001b[0m \u001b[38;5;28;01mif\u001b[39;00m \u001b[43mkey\u001b[49m\u001b[43m \u001b[49m\u001b[38;5;129;43;01mnot\u001b[39;49;00m\u001b[43m \u001b[49m\u001b[38;5;129;43;01min\u001b[39;49;00m\u001b[43m \u001b[49m\u001b[43mdata\u001b[49m:\n\u001b[0;32m     51\u001b[0m     \u001b[38;5;28;01mraise\u001b[39;00m \u001b[38;5;167;01mException\u001b[39;00m(\u001b[38;5;124mf\u001b[39m\u001b[38;5;124m'\u001b[39m\u001b[38;5;124mThe key: \u001b[39m\u001b[38;5;132;01m{\u001b[39;00mkey\u001b[38;5;132;01m}\u001b[39;00m\u001b[38;5;124m does not exist in the data for the crawler: \u001b[39m\u001b[38;5;132;01m{\u001b[39;00mcrawler_name\u001b[38;5;132;01m}\u001b[39;00m\u001b[38;5;124m'\u001b[39m)\n\u001b[0;32m     53\u001b[0m \u001b[38;5;28;01mreturn\u001b[39;00m data[key]\n",
      "\u001b[1;31mTypeError\u001b[0m: argument of type 'NoneType' is not iterable"
     ]
    }
   ],
   "source": [
    "for name, crawler in crawlers.items():\n",
    "    print(f'Crawling {name}...')\n",
    "    crawler.crawl()"
   ]
  }
 ],
 "metadata": {
  "kernelspec": {
   "display_name": "Python 3",
   "language": "python",
   "name": "python3"
  },
  "language_info": {
   "codemirror_mode": {
    "name": "ipython",
    "version": 3
   },
   "file_extension": ".py",
   "mimetype": "text/x-python",
   "name": "python",
   "nbconvert_exporter": "python",
   "pygments_lexer": "ipython3",
   "version": "3.12.2"
  }
 },
 "nbformat": 4,
 "nbformat_minor": 2
}
