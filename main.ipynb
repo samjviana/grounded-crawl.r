{
 "cells": [
  {
   "cell_type": "code",
   "execution_count": 1,
   "metadata": {},
   "outputs": [],
   "source": [
    "from crawler import AchievementsCrawler, HarvestNodesCrawler, BestiaryCrawler, BaseCrawler\n",
    "from crawler import CharacterDataCrawler, ChatWheelCrawler, EmotesCrawler, PetPersonalitiesCrawler\n",
    "from crawler import PlaceableStaticMeshesCrawler, PlaceableStaticMeshesManmadeCrawler\n",
    "from crawler import PlaceableStaticMeshesNaturalCrawler, PlayerUpgradesCrawler\n",
    "from crawler import ToolsWeaponsCrawler, ItemsCrawler, StatusEffectsCrawler\n",
    "from crawler import MutationsCrawler\n",
    "from pathlib import Path\n",
    "\n",
    "import json\n",
    "import uuid\n",
    "import re\n",
    "import os"
   ]
  },
  {
   "cell_type": "code",
   "execution_count": 5,
   "metadata": {},
   "outputs": [
    {
     "ename": "FileNotFoundError",
     "evalue": "[Errno 2] No such file or directory: 'C:\\\\Users\\\\PC-SAMUEL\\\\Desktop\\\\data_mining\\\\grounded\\\\1.3\\\\json_data\\\\Maine\\\\Content\\\\Exported\\\\BaseGame\\\\Localized\\\\enus\\\\Text\\\\Text_enus.json'",
     "output_type": "error",
     "traceback": [
      "\u001b[1;31m---------------------------------------------------------------------------\u001b[0m",
      "\u001b[1;31mFileNotFoundError\u001b[0m                         Traceback (most recent call last)",
      "Cell \u001b[1;32mIn[5], line 6\u001b[0m\n\u001b[0;32m      1\u001b[0m BaseCrawler\u001b[38;5;241m.\u001b[39minit(root_path\u001b[38;5;241m=\u001b[39mPath(\u001b[38;5;124m'\u001b[39m\u001b[38;5;124mC:/Users/PC-SAMUEL/Desktop/data_mining/grounded/\u001b[39m\u001b[38;5;124m'\u001b[39m), version\u001b[38;5;241m=\u001b[39m\u001b[38;5;124m'\u001b[39m\u001b[38;5;124m1.3\u001b[39m\u001b[38;5;124m'\u001b[39m, locale\u001b[38;5;241m=\u001b[39m\u001b[38;5;124m'\u001b[39m\u001b[38;5;124menus\u001b[39m\u001b[38;5;124m'\u001b[39m)\n\u001b[0;32m      3\u001b[0m hide_unknown_fields \u001b[38;5;241m=\u001b[39m \u001b[38;5;28;01mTrue\u001b[39;00m\n\u001b[0;32m      5\u001b[0m crawlers: \u001b[38;5;28mdict\u001b[39m[\u001b[38;5;28mstr\u001b[39m, BaseCrawler] \u001b[38;5;241m=\u001b[39m {\n\u001b[1;32m----> 6\u001b[0m     \u001b[38;5;124m'\u001b[39m\u001b[38;5;124machievements\u001b[39m\u001b[38;5;124m'\u001b[39m: \u001b[43mAchievementsCrawler\u001b[49m\u001b[43m(\u001b[49m\u001b[43mhide_unknown_fields\u001b[49m\u001b[43m)\u001b[49m,\n\u001b[0;32m      7\u001b[0m     \u001b[38;5;124m'\u001b[39m\u001b[38;5;124mharvest_nodes\u001b[39m\u001b[38;5;124m'\u001b[39m: HarvestNodesCrawler(hide_unknown_fields),\n\u001b[0;32m      8\u001b[0m     \u001b[38;5;124m'\u001b[39m\u001b[38;5;124mcreatures\u001b[39m\u001b[38;5;124m'\u001b[39m: BestiaryCrawler(hide_unknown_fields),\n\u001b[0;32m      9\u001b[0m     \u001b[38;5;124m'\u001b[39m\u001b[38;5;124mcharacter_data\u001b[39m\u001b[38;5;124m'\u001b[39m: CharacterDataCrawler(hide_unknown_fields),\n\u001b[0;32m     10\u001b[0m     \u001b[38;5;124m'\u001b[39m\u001b[38;5;124mchat_wheel\u001b[39m\u001b[38;5;124m'\u001b[39m: ChatWheelCrawler(hide_unknown_fields),\n\u001b[0;32m     11\u001b[0m     \u001b[38;5;124m'\u001b[39m\u001b[38;5;124memotes\u001b[39m\u001b[38;5;124m'\u001b[39m: EmotesCrawler(hide_unknown_fields),\n\u001b[0;32m     12\u001b[0m     \u001b[38;5;124m'\u001b[39m\u001b[38;5;124mpet_personalities\u001b[39m\u001b[38;5;124m'\u001b[39m: PetPersonalitiesCrawler(hide_unknown_fields),\n\u001b[0;32m     13\u001b[0m     \u001b[38;5;124m'\u001b[39m\u001b[38;5;124mplaceable_static_meshes\u001b[39m\u001b[38;5;124m'\u001b[39m: PlaceableStaticMeshesCrawler(hide_unknown_fields),\n\u001b[0;32m     14\u001b[0m     \u001b[38;5;124m'\u001b[39m\u001b[38;5;124mplaceable_static_meshes_manmade\u001b[39m\u001b[38;5;124m'\u001b[39m: PlaceableStaticMeshesManmadeCrawler(hide_unknown_fields),\n\u001b[0;32m     15\u001b[0m     \u001b[38;5;124m'\u001b[39m\u001b[38;5;124mplaceable_static_meshes_natural\u001b[39m\u001b[38;5;124m'\u001b[39m: PlaceableStaticMeshesNaturalCrawler(hide_unknown_fields),\n\u001b[0;32m     16\u001b[0m     \u001b[38;5;124m'\u001b[39m\u001b[38;5;124mplayer_upgrades\u001b[39m\u001b[38;5;124m'\u001b[39m: PlayerUpgradesCrawler(hide_unknown_fields),\n\u001b[0;32m     17\u001b[0m     \u001b[38;5;124m'\u001b[39m\u001b[38;5;124mtools_weapons\u001b[39m\u001b[38;5;124m'\u001b[39m: ToolsWeaponsCrawler(hide_unknown_fields),\n\u001b[0;32m     18\u001b[0m     \u001b[38;5;124m'\u001b[39m\u001b[38;5;124mitems\u001b[39m\u001b[38;5;124m'\u001b[39m: ItemsCrawler(hide_unknown_fields),\n\u001b[0;32m     19\u001b[0m     \u001b[38;5;124m'\u001b[39m\u001b[38;5;124mstatus_effects\u001b[39m\u001b[38;5;124m'\u001b[39m: StatusEffectsCrawler(hide_unknown_fields),\n\u001b[0;32m     20\u001b[0m     \u001b[38;5;124m'\u001b[39m\u001b[38;5;124mmutations\u001b[39m\u001b[38;5;124m'\u001b[39m: MutationsCrawler(hide_unknown_fields),\n\u001b[0;32m     21\u001b[0m }\n",
      "File \u001b[1;32mc:\\Users\\PC-SAMUEL\\Desktop\\Coding\\python\\grounded_crawler\\crawler\\achievements.py:14\u001b[0m, in \u001b[0;36mAchievementsCrawler.__init__\u001b[1;34m(self, hide_unknown_fields)\u001b[0m\n\u001b[0;32m     13\u001b[0m \u001b[38;5;28;01mdef\u001b[39;00m \u001b[38;5;21m__init__\u001b[39m(\u001b[38;5;28mself\u001b[39m, hide_unknown_fields: \u001b[38;5;28mbool\u001b[39m \u001b[38;5;241m=\u001b[39m \u001b[38;5;28;01mFalse\u001b[39;00m):\n\u001b[1;32m---> 14\u001b[0m     \u001b[38;5;28;43msuper\u001b[39;49m\u001b[43m(\u001b[49m\u001b[43m)\u001b[49m\u001b[38;5;241;43m.\u001b[39;49m\u001b[38;5;21;43m__init__\u001b[39;49m\u001b[43m(\u001b[49m\n\u001b[0;32m     15\u001b[0m \u001b[43m        \u001b[49m\u001b[43mname\u001b[49m\u001b[38;5;241;43m=\u001b[39;49m\u001b[38;5;124;43m'\u001b[39;49m\u001b[38;5;124;43machievements\u001b[39;49m\u001b[38;5;124;43m'\u001b[39;49m\u001b[43m,\u001b[49m\n\u001b[0;32m     16\u001b[0m \u001b[43m        \u001b[49m\u001b[43mjson_path\u001b[49m\u001b[38;5;241;43m=\u001b[39;49m\u001b[43mPath\u001b[49m\u001b[43m(\u001b[49m\u001b[38;5;124;43m'\u001b[39;49m\u001b[38;5;124;43mMaine/Content/Blueprints/DataTables/Table_Achievements.json\u001b[39;49m\u001b[38;5;124;43m'\u001b[39;49m\u001b[43m)\u001b[49m\u001b[43m,\u001b[49m\n\u001b[0;32m     17\u001b[0m \u001b[43m        \u001b[49m\u001b[43mhide_unknown_fields\u001b[49m\u001b[38;5;241;43m=\u001b[39;49m\u001b[43mhide_unknown_fields\u001b[49m\n\u001b[0;32m     18\u001b[0m \u001b[43m    \u001b[49m\u001b[43m)\u001b[49m\n\u001b[0;32m     19\u001b[0m     \u001b[38;5;28mself\u001b[39m\u001b[38;5;241m.\u001b[39munknown_field_list \u001b[38;5;241m=\u001b[39m [\n\u001b[0;32m     20\u001b[0m         \u001b[38;5;124m'\u001b[39m\u001b[38;5;124mPlayerStat\u001b[39m\u001b[38;5;124m'\u001b[39m,\n\u001b[0;32m     21\u001b[0m         \u001b[38;5;124m'\u001b[39m\u001b[38;5;124mbTotalPartyPlayerStat\u001b[39m\u001b[38;5;124m'\u001b[39m,\n\u001b[1;32m   (...)\u001b[0m\n\u001b[0;32m     26\u001b[0m         \u001b[38;5;124m'\u001b[39m\u001b[38;5;124mbClientMustBePresentAtValueChange\u001b[39m\u001b[38;5;124m'\u001b[39m\n\u001b[0;32m     27\u001b[0m     ]\n",
      "File \u001b[1;32mc:\\Users\\PC-SAMUEL\\Desktop\\Coding\\python\\grounded_crawler\\crawler\\base_crawler.py:35\u001b[0m, in \u001b[0;36mBaseCrawler.__init__\u001b[1;34m(self, name, json_path, hide_unknown_fields)\u001b[0m\n\u001b[0;32m     32\u001b[0m \u001b[38;5;28mself\u001b[39m\u001b[38;5;241m.\u001b[39mhide_unknown_fields \u001b[38;5;241m=\u001b[39m hide_unknown_fields\n\u001b[0;32m     33\u001b[0m \u001b[38;5;28mself\u001b[39m\u001b[38;5;241m.\u001b[39munknown_field_list \u001b[38;5;241m=\u001b[39m []\n\u001b[1;32m---> 35\u001b[0m \u001b[43mDisplayName\u001b[49m\u001b[38;5;241;43m.\u001b[39;49m\u001b[43minit\u001b[49m\u001b[43m(\u001b[49m\u001b[38;5;28;43mself\u001b[39;49m\u001b[38;5;241;43m.\u001b[39;49m\u001b[43mlang_path\u001b[49m\u001b[43m)\u001b[49m\n",
      "File \u001b[1;32mc:\\Users\\PC-SAMUEL\\Desktop\\Coding\\python\\grounded_crawler\\models\\display_name.py:45\u001b[0m, in \u001b[0;36mDisplayName.init\u001b[1;34m(lang_path)\u001b[0m\n\u001b[0;32m     38\u001b[0m \u001b[38;5;250m\u001b[39m\u001b[38;5;124;03m\"\"\"\u001b[39;00m\n\u001b[0;32m     39\u001b[0m \u001b[38;5;124;03mThis method is responsible for initializing the DisplayName localization.\u001b[39;00m\n\u001b[0;32m     40\u001b[0m \u001b[38;5;124;03m#### Parameters\u001b[39;00m\n\u001b[0;32m     41\u001b[0m \u001b[38;5;124;03m- `lang_path` : `Path`\u001b[39;00m\n\u001b[0;32m     42\u001b[0m \u001b[38;5;124;03m    - The path to the language file.\u001b[39;00m\n\u001b[0;32m     43\u001b[0m \u001b[38;5;124;03m\"\"\"\u001b[39;00m\n\u001b[0;32m     44\u001b[0m buffer \u001b[38;5;241m=\u001b[39m []\n\u001b[1;32m---> 45\u001b[0m \u001b[38;5;28;01mwith\u001b[39;00m \u001b[38;5;28;43mopen\u001b[39;49m\u001b[43m(\u001b[49m\u001b[43mlang_path\u001b[49m\u001b[43m,\u001b[49m\u001b[43m \u001b[49m\u001b[38;5;124;43m'\u001b[39;49m\u001b[38;5;124;43mr\u001b[39;49m\u001b[38;5;124;43m'\u001b[39;49m\u001b[43m,\u001b[49m\u001b[43m \u001b[49m\u001b[43mencoding\u001b[49m\u001b[38;5;241;43m=\u001b[39;49m\u001b[38;5;124;43m'\u001b[39;49m\u001b[38;5;124;43mutf-8\u001b[39;49m\u001b[38;5;124;43m'\u001b[39;49m\u001b[43m)\u001b[49m \u001b[38;5;28;01mas\u001b[39;00m file:\n\u001b[0;32m     46\u001b[0m     buffer \u001b[38;5;241m=\u001b[39m json\u001b[38;5;241m.\u001b[39mload(file)[\u001b[38;5;241m0\u001b[39m][\u001b[38;5;124m'\u001b[39m\u001b[38;5;124mProperties\u001b[39m\u001b[38;5;124m'\u001b[39m][\u001b[38;5;124m'\u001b[39m\u001b[38;5;124mStringTables\u001b[39m\u001b[38;5;124m'\u001b[39m]\n\u001b[0;32m     48\u001b[0m DisplayName\u001b[38;5;241m.\u001b[39mlocalization_json \u001b[38;5;241m=\u001b[39m {}\n",
      "\u001b[1;31mFileNotFoundError\u001b[0m: [Errno 2] No such file or directory: 'C:\\\\Users\\\\PC-SAMUEL\\\\Desktop\\\\data_mining\\\\grounded\\\\1.3\\\\json_data\\\\Maine\\\\Content\\\\Exported\\\\BaseGame\\\\Localized\\\\enus\\\\Text\\\\Text_enus.json'"
     ]
    }
   ],
   "source": [
    "BaseCrawler.init(root_path=Path('C:/Users/PC-SAMUEL/Desktop/data_mining/grounded/'), version='1.4.1.4512', locale='enus')\n",
    "\n",
    "hide_unknown_fields = True\n",
    "\n",
    "crawlers: dict[str, BaseCrawler] = {\n",
    "    'achievements': AchievementsCrawler(hide_unknown_fields),\n",
    "    'harvest_nodes': HarvestNodesCrawler(hide_unknown_fields),\n",
    "    'creatures': BestiaryCrawler(hide_unknown_fields),\n",
    "    'character_data': CharacterDataCrawler(hide_unknown_fields),\n",
    "    'chat_wheel': ChatWheelCrawler(hide_unknown_fields),\n",
    "    'emotes': EmotesCrawler(hide_unknown_fields),\n",
    "    'pet_personalities': PetPersonalitiesCrawler(hide_unknown_fields),\n",
    "    'placeable_static_meshes': PlaceableStaticMeshesCrawler(hide_unknown_fields),\n",
    "    'placeable_static_meshes_manmade': PlaceableStaticMeshesManmadeCrawler(hide_unknown_fields),\n",
    "    'placeable_static_meshes_natural': PlaceableStaticMeshesNaturalCrawler(hide_unknown_fields),\n",
    "    'player_upgrades': PlayerUpgradesCrawler(hide_unknown_fields),\n",
    "    'tools_weapons': ToolsWeaponsCrawler(hide_unknown_fields),\n",
    "    'items': ItemsCrawler(hide_unknown_fields),\n",
    "    'status_effects': StatusEffectsCrawler(hide_unknown_fields),\n",
    "    'mutations': MutationsCrawler(hide_unknown_fields),\n",
    "}"
   ]
  },
  {
   "cell_type": "code",
   "execution_count": 4,
   "metadata": {},
   "outputs": [
    {
     "name": "stdout",
     "output_type": "stream",
     "text": [
      "Crawling achievements...\n",
      "Crawling harvest_nodes...\n",
      "Crawling creatures...\n",
      "Crawling character_data...\n",
      "Crawling chat_wheel...\n",
      "Crawling emotes...\n",
      "Crawling pet_personalities...\n",
      "Crawling placeable_static_meshes...\n",
      "Crawling placeable_static_meshes_manmade...\n",
      "Crawling placeable_static_meshes_natural...\n",
      "Crawling player_upgrades...\n",
      "Crawling tools_weapons...\n",
      "Crawling items...\n",
      "Crawling status_effects...\n",
      "Crawling mutations...\n"
     ]
    }
   ],
   "source": [
    "for name, crawler in crawlers.items():\n",
    "    print(f'Crawling {name}...')\n",
    "    crawler.crawl()"
   ]
  }
 ],
 "metadata": {
  "kernelspec": {
   "display_name": "Python 3",
   "language": "python",
   "name": "python3"
  },
  "language_info": {
   "codemirror_mode": {
    "name": "ipython",
    "version": 3
   },
   "file_extension": ".py",
   "mimetype": "text/x-python",
   "name": "python",
   "nbconvert_exporter": "python",
   "pygments_lexer": "ipython3",
   "version": "3.12.2"
  }
 },
 "nbformat": 4,
 "nbformat_minor": 2
}
