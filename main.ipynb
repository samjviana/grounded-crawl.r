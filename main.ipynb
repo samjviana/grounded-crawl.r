{
 "cells": [
  {
   "cell_type": "code",
   "execution_count": 1,
   "metadata": {},
   "outputs": [],
   "source": [
    "items = [\n",
    "        'Generic',\n",
    "        'Busting',\n",
    "        'Chopping',\n",
    "        'Slashing',\n",
    "        'Stabbing',\n",
    "        'Fresh',\n",
    "        'Salty',\n",
    "        'Sour',\n",
    "        'Spicy',\n",
    "        'Burning',\n",
    "        'Explosive',\n",
    "        'Shock'\n",
    "        ]"
   ]
  },
  {
   "cell_type": "code",
   "execution_count": 2,
   "metadata": {},
   "outputs": [],
   "source": [
    "def format_list_in_columns(strings, columns):\n",
    "    import itertools\n",
    "    \n",
    "    # Dividir a lista em sub-listas de acordo com o número de colunas\n",
    "    groups = [strings[i:i+columns] for i in range(0, len(strings), columns)]\n",
    "    \n",
    "    # Encontrar o comprimento máximo de cada coluna\n",
    "    max_lengths = [max(len(item) for item in col) + 1 for col in itertools.zip_longest(*groups, fillvalue='')]\n",
    "    \n",
    "    # Criar uma string formatada\n",
    "    result = \"[/n\"\n",
    "    for group in groups:\n",
    "        line = ' '.join(f\"'{item}',\".ljust(max_lengths[idx] + 2) for idx, item in enumerate(group))\n",
    "        result += f\"    {line}/n\"\n",
    "    result = result.rstrip('/n') + '/n]'\n",
    "    \n",
    "    return result"
   ]
  },
  {
   "cell_type": "code",
   "execution_count": 3,
   "metadata": {},
   "outputs": [
    {
     "name": "stdout",
     "output_type": "stream",
     "text": [
      "[\n",
      "    'Generic',  'Busting', 'Chopping',  'Slashing',\n",
      "    'Stabbing', 'Fresh',   'Salty',     'Sour',    \n",
      "    'Spicy',    'Burning', 'Explosive', 'Shock',   \n",
      "]\n"
     ]
    }
   ],
   "source": [
    "print(format_list_in_columns(items, 4))"
   ]
  },
  {
   "cell_type": "code",
   "execution_count": 6,
   "metadata": {},
   "outputs": [],
   "source": [
    "from crawler import AchievementsCrawler, HarvestNodesCrawler, BestiaryCrawler, BaseCrawler\n",
    "from crawler import CharacterDataCrawler, ChatWheelCrawler, EmotesCrawler, PetPersonalitiesCrawler\n",
    "from crawler import PlaceableStaticMeshesCrawler, PlaceableStaticMeshesManmadeCrawler\n",
    "from crawler import PlaceableStaticMeshesNaturalCrawler, PlayerUpgradesCrawler\n",
    "from crawler import ToolsWeaponsCrawler, ItemsCrawler, StatusEffectsCrawler\n",
    "from crawler import MutationsCrawler\n",
    "from pathlib import Path\n",
    "\n",
    "import json\n",
    "import uuid\n",
    "import re\n",
    "import os"
   ]
  },
  {
   "cell_type": "code",
   "execution_count": 7,
   "metadata": {},
   "outputs": [],
   "source": [
    "BaseCrawler.init(root_path=Path('C:/Users/PC-SAMUEL/Desktop/data_mining/grounded/'), version='1.4.1.4512', locale='enus')"
   ]
  },
  {
   "cell_type": "code",
   "execution_count": 10,
   "metadata": {},
   "outputs": [],
   "source": [
    "hide_unknown_fields = True\n",
    "\n",
    "crawlers: dict[str, BaseCrawler] = {\n",
    "    'achievements': AchievementsCrawler(hide_unknown_fields),\n",
    "    'harvest_nodes': HarvestNodesCrawler(hide_unknown_fields),\n",
    "    'creatures': BestiaryCrawler(hide_unknown_fields),\n",
    "    'character_data': CharacterDataCrawler(hide_unknown_fields),\n",
    "    'chat_wheel': ChatWheelCrawler(hide_unknown_fields),\n",
    "    'emotes': EmotesCrawler(hide_unknown_fields),\n",
    "    'pet_personalities': PetPersonalitiesCrawler(hide_unknown_fields),\n",
    "    'placeable_static_meshes': PlaceableStaticMeshesCrawler(hide_unknown_fields),\n",
    "    'placeable_static_meshes_manmade': PlaceableStaticMeshesManmadeCrawler(hide_unknown_fields),\n",
    "    'placeable_static_meshes_natural': PlaceableStaticMeshesNaturalCrawler(hide_unknown_fields),\n",
    "    'player_upgrades': PlayerUpgradesCrawler(hide_unknown_fields),\n",
    "    'tools_weapons': ToolsWeaponsCrawler(hide_unknown_fields),\n",
    "    'items': ItemsCrawler(hide_unknown_fields),\n",
    "    'status_effects': StatusEffectsCrawler(hide_unknown_fields),\n",
    "    'mutations': MutationsCrawler(hide_unknown_fields),\n",
    "}"
   ]
  },
  {
   "cell_type": "code",
   "execution_count": 11,
   "metadata": {},
   "outputs": [
    {
     "name": "stdout",
     "output_type": "stream",
     "text": [
      "Crawling achievements...\n",
      "Crawling harvest_nodes...\n",
      "Crawling creatures...\n",
      "Crawling character_data...\n",
      "Crawling chat_wheel...\n",
      "Crawling emotes...\n",
      "Crawling pet_personalities...\n",
      "Crawling placeable_static_meshes...\n",
      "Crawling placeable_static_meshes_manmade...\n",
      "Crawling placeable_static_meshes_natural...\n",
      "Crawling player_upgrades...\n",
      "Crawling tools_weapons...\n",
      "Crawling items...\n",
      "Crawling status_effects...\n",
      "Crawling mutations...\n"
     ]
    }
   ],
   "source": [
    "for name, crawler in crawlers.items():\n",
    "    print(f'Crawling {name}...')\n",
    "    crawler.crawl()"
   ]
  },
  {
   "cell_type": "code",
   "execution_count": 5,
   "metadata": {},
   "outputs": [
    {
     "data": {
      "text/plain": [
       "41"
      ]
     },
     "execution_count": 5,
     "metadata": {},
     "output_type": "execute_result"
    }
   ],
   "source": [
    "path = Path('C:/Users/PC-SAMUEL/Desktop/Coding/python/grounded_crawler/data/crawled/1.4.1.4512/mutations.json')\n",
    "json_data = json.loads(path.read_text())\n",
    "len(json_data)"
   ]
  }
 ],
 "metadata": {
  "kernelspec": {
   "display_name": "Python 3",
   "language": "python",
   "name": "python3"
  },
  "language_info": {
   "codemirror_mode": {
    "name": "ipython",
    "version": 3
   },
   "file_extension": ".py",
   "mimetype": "text/x-python",
   "name": "python",
   "nbconvert_exporter": "python",
   "pygments_lexer": "ipython3",
   "version": "3.12.2"
  }
 },
 "nbformat": 4,
 "nbformat_minor": 2
}
